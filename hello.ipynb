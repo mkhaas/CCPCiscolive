{
  "nbformat": 4,
  "nbformat_minor": 0,
  "metadata": {
    "colab": {
      "name": "hello.ipynb",
      "version": "0.3.2",
      "provenance": [],
      "collapsed_sections": [],
      "include_colab_link": true
    },
    "kernelspec": {
      "name": "python3",
      "display_name": "Python 3"
    }
  },
  "cells": [
    {
      "cell_type": "markdown",
      "metadata": {
        "id": "view-in-github",
        "colab_type": "text"
      },
      "source": [
        "<a href=\"https://colab.research.google.com/github/mkhaas/CCPCiscolive/blob/master/hello.ipynb\" target=\"_parent\"><img src=\"https://colab.research.google.com/assets/colab-badge.svg\" alt=\"Open In Colab\"/></a>"
      ]
    },
    {
      "cell_type": "code",
      "metadata": {
        "id": "gukEwlZnnRJ4",
        "colab_type": "code",
        "colab": {}
      },
      "source": [
        "!pip install h5py pyyaml"
      ],
      "execution_count": 0,
      "outputs": []
    },
    {
      "cell_type": "code",
      "metadata": {
        "id": "_9DVzzCKnrQe",
        "colab_type": "code",
        "colab": {}
      },
      "source": [
        "from __future__ import absolute_import, division, print_function, unicode_literals\n",
        "\n",
        "import os\n",
        "\n",
        "!pip install tensorflow==2.0.0-alpha0\n",
        "import tensorflow as tf\n",
        "import numpy as np\n",
        "from tensorflow import keras\n",
        "\n",
        "tf.__version__"
      ],
      "execution_count": 0,
      "outputs": []
    },
    {
      "cell_type": "code",
      "metadata": {
        "id": "Iiq5AFPioIry",
        "colab_type": "code",
        "colab": {}
      },
      "source": [
        "model = tf.keras.Sequential([keras.layers.Dense(units=1, input_shape=[1])])"
      ],
      "execution_count": 0,
      "outputs": []
    },
    {
      "cell_type": "code",
      "metadata": {
        "id": "q-6JAo_yoOp2",
        "colab_type": "code",
        "colab": {}
      },
      "source": [
        "model.compile(optimizer='sgd', loss='mean_squared_error')"
      ],
      "execution_count": 0,
      "outputs": []
    },
    {
      "cell_type": "code",
      "metadata": {
        "id": "-2DRQ9wKoTbM",
        "colab_type": "code",
        "colab": {}
      },
      "source": [
        "xs = np.array([-1.0,  0.0, 1.0, 2.0, 3.0, 4.0], dtype=float)\n",
        "ys = np.array([-3.0, -1.0, 1.0, 3.0, 5.0, 7.0], dtype=float)"
      ],
      "execution_count": 0,
      "outputs": []
    },
    {
      "cell_type": "code",
      "metadata": {
        "id": "JSp57qNAoVMd",
        "colab_type": "code",
        "colab": {}
      },
      "source": [
        "model.fit(xs, ys, epochs=500)"
      ],
      "execution_count": 0,
      "outputs": []
    },
    {
      "cell_type": "code",
      "metadata": {
        "id": "EZEUB7dJoc6F",
        "colab_type": "code",
        "colab": {}
      },
      "source": [
        "print(model.predict([10.0]))"
      ],
      "execution_count": 0,
      "outputs": []
    },
    {
      "cell_type": "code",
      "metadata": {
        "id": "MUyRfWfzqhvU",
        "colab_type": "code",
        "colab": {}
      },
      "source": [
        "print('\\ntrain_labels.shape: {}, of {}'.format(xs, xs.dtype))\n",
        "print('test_labels.shape: {}, of {}'.format(ys.shape, ys.dtype))\n",
        "print(model.inputs)\n",
        "print(model.outputs)\n",
        "inputs={'xs': model.input}\n",
        "print(inputs)\n",
        "outputs={t.name:t for t in model.outputs}\n",
        "print(outputs)\n"
      ],
      "execution_count": 0,
      "outputs": []
    },
    {
      "cell_type": "code",
      "metadata": {
        "id": "UvKuDeDMojNa",
        "colab_type": "code",
        "colab": {}
      },
      "source": [
        "#https://www.tensorflow.org/alpha/tutorials/keras/save_and_restore_models\n",
        "#https://www.tensorflow.org/tfx/serving/signature_defs\n",
        "#https://www.tensorflow.org/api_docs/python/tf/saved_model/simple_save\n",
        "#https://www.tensorflow.org/tfx/serving/tutorials/Serving_REST_simple\n",
        "#https://colab.research.google.com/github/tensorflow/serving/blob/master/tensorflow_serving/g3doc/tutorials/Serving_REST_simple.ipynb#scrollTo=0w5Rq8SsgWE6\n",
        "#https://www.tensorflow.org/guide/saved_model\n",
        "#https://www.tensorflow.org/tfx/serving/setup\n",
        "#https://github.com/tensorflow/tensorflow/blob/master/tensorflow/python/saved_model/signature_constants.py\n",
        "#https://www.tensorflow.org/tfx/serving/serving_basic\n",
        "#https://www.tensorflow.org/tfx/serving/serving_advanced\n",
        "#https://www.google.com/search?q=examples+of+signature_def_map&oq=examples+of+signature_def_map&aqs=chrome..69i57.5039j0j9&sourceid=chrome&ie=UTF-8\n",
        "#https://github.com/tensorflow/tensorflow/blob/master/tensorflow/core/protobuf/meta_graph.proto\n",
        "#https://github.com/tensorflow/serving/blob/master/tensorflow_serving/example/mnist_saved_model.py\n",
        "#https://github.com/tensorflow/serving/blob/master/tensorflow_serving/example/mnist_saved_model.py\n",
        "#https://www.tensorflow.org/tfx/serving/serving_basic \n",
        "#Multiple GPUS\n",
        "#https://www.tensorflow.org/guide/keras\n",
        "\n",
        "\n",
        "import tempfile\n",
        "import sys\n",
        "\n",
        "MODEL_DIR = tempfile.gettempdir()\n",
        "version = 1\n",
        "export_path = os.path.join(MODEL_DIR, str(version))\n",
        "print('export_path = {}\\n'.format(export_path))\n",
        "if os.path.isdir(export_path):\n",
        "  print('\\nAlready saved a model, cleaning up\\n')\n",
        "  !rm -r {export_path}\n",
        "  \n",
        "\n",
        "#tensor_info_x = tf.saved_model.utils.build_tensor_info(xs)\n",
        "#tensor_info_y = tf.saved_model.utils.build_tensor_info(ys)\n",
        "  \n",
        "## Prediction Signature  \n",
        "#prediction_signature = (\n",
        "#      tf.saved_model.signature_def_utils.build_signature_def(\n",
        "          #inputs={'input': tensor_info_x},\n",
        "          #outputs={'output': tensor_info_y},\n",
        " #         inputs={'xs': model.inputs},\n",
        " #         outputs={'ys': model.outputs},\n",
        " #         method_name=tf.saved_model.signature_constants.PREDICT_METHOD_NAME))\n",
        "\n",
        "#sess = tf.InteractiveSession()\n",
        "#https://www.tensorflow.org/tfx/serving/serving_basic\n",
        "#builder = tf.saved_model.builder.SavedModelBuilder(export_path)\n",
        "#builder.add_meta_graph_and_variables(\n",
        "#    sess, [tf.saved_model.tag_constants.SERVING],\n",
        "#    signature_def_map={\n",
        "#        'predict_images':\n",
        "#            prediction_signature,\n",
        "#    })\n",
        "\n",
        "#builder.save()\n",
        "#print('Done exporting!')\n",
        "\n",
        "\n",
        "#tf.saved_model.simple_save(\n",
        "#    keras.backend.get_session(),\n",
        "#    export_path,\n",
        "#    inputs={'xs': model.input},\n",
        "#    outputs={t.name:t for t in model.outputs})\n",
        "\n",
        "tf.keras.experimental.export_saved_model(model, export_path)\n",
        "export_path\n",
        "print('\\nSaved model:')\n",
        "!ls -l {export_path}"
      ],
      "execution_count": 0,
      "outputs": []
    },
    {
      "cell_type": "code",
      "metadata": {
        "id": "E6t3BP5dqB7l",
        "colab_type": "code",
        "colab": {}
      },
      "source": [
        "!ls /tmp\n",
        "\n"
      ],
      "execution_count": 0,
      "outputs": []
    },
    {
      "cell_type": "code",
      "metadata": {
        "id": "GCpvCYCUqDY2",
        "colab_type": "code",
        "colab": {}
      },
      "source": [
        "!ls /tmp/1"
      ],
      "execution_count": 0,
      "outputs": []
    },
    {
      "cell_type": "code",
      "metadata": {
        "id": "WHli2Pz3qHr-",
        "colab_type": "code",
        "colab": {}
      },
      "source": [
        "new_model = tf.keras.experimental.load_from_saved_model(export_path)\n",
        "new_model.summary()"
      ],
      "execution_count": 0,
      "outputs": []
    },
    {
      "cell_type": "code",
      "metadata": {
        "id": "PVs8aNseqpjq",
        "colab_type": "code",
        "colab": {}
      },
      "source": [
        "print(model.predict([10.0]))"
      ],
      "execution_count": 0,
      "outputs": []
    },
    {
      "cell_type": "code",
      "metadata": {
        "id": "w1wJ5YesqqhZ",
        "colab_type": "code",
        "colab": {}
      },
      "source": [
        "!ls -ltr /tmp/1"
      ],
      "execution_count": 0,
      "outputs": []
    },
    {
      "cell_type": "code",
      "metadata": {
        "id": "oaTMjZt9rQij",
        "colab_type": "code",
        "colab": {}
      },
      "source": [
        "!ls -ltr /tmp/1/variables"
      ],
      "execution_count": 0,
      "outputs": []
    },
    {
      "cell_type": "code",
      "metadata": {
        "id": "jbzqfesVraIC",
        "colab_type": "code",
        "colab": {}
      },
      "source": [
        "!ls -ltr /tmp/1/assets"
      ],
      "execution_count": 0,
      "outputs": []
    },
    {
      "cell_type": "code",
      "metadata": {
        "id": "QQh8pA5-reOQ",
        "colab_type": "code",
        "colab": {}
      },
      "source": [
        "#from google.colab import files\n",
        "#files.download(\"./saved_models/1556802420/saved_model.pb\")"
      ],
      "execution_count": 0,
      "outputs": []
    },
    {
      "cell_type": "code",
      "metadata": {
        "id": "zOD5n0xsr6NG",
        "colab_type": "code",
        "colab": {}
      },
      "source": [
        "!saved_model_cli show --dir {export_path} --all"
      ],
      "execution_count": 0,
      "outputs": []
    },
    {
      "cell_type": "code",
      "metadata": {
        "id": "-i5HLTe9FSZC",
        "colab_type": "code",
        "colab": {}
      },
      "source": [
        "#https://colab.research.google.com/github/tensorflow/serving/blob/master/tensorflow_serving/g3doc/tutorials/Serving_REST_simple.ipynb#scrollTo=LU4GDF_aYtfQ\n",
        "\n",
        "\n",
        "# This is the same as you would do from your command line, but without the [arch=amd64], and no sudo\n",
        "# You would instead do:\n",
        "# echo \"deb [arch=amd64] http://storage.googleapis.com/tensorflow-serving-apt stable tensorflow-model-server tensorflow-model-server-universal\" | sudo tee /etc/apt/sources.list.d/tensorflow-serving.list && \\\n",
        "# curl https://storage.googleapis.com/tensorflow-serving-apt/tensorflow-serving.release.pub.gpg | sudo apt-key add -\n",
        "\n",
        "!echo \"deb http://storage.googleapis.com/tensorflow-serving-apt stable tensorflow-model-server tensorflow-model-server-universal\" | tee /etc/apt/sources.list.d/tensorflow-serving.list && \\\n",
        "curl https://storage.googleapis.com/tensorflow-serving-apt/tensorflow-serving.release.pub.gpg | apt-key add -\n",
        "!apt update"
      ],
      "execution_count": 0,
      "outputs": []
    },
    {
      "cell_type": "code",
      "metadata": {
        "id": "7BmKAk0LF3tx",
        "colab_type": "code",
        "colab": {}
      },
      "source": [
        "!apt-get install tensorflow-model-server"
      ],
      "execution_count": 0,
      "outputs": []
    },
    {
      "cell_type": "code",
      "metadata": {
        "id": "GMtajj1TGLPE",
        "colab_type": "code",
        "colab": {}
      },
      "source": [
        "os.environ[\"MODEL_DIR\"] = MODEL_DIR"
      ],
      "execution_count": 0,
      "outputs": []
    },
    {
      "cell_type": "code",
      "metadata": {
        "id": "A1XffPoYGdDH",
        "colab_type": "code",
        "colab": {}
      },
      "source": [
        "%%bash --bg \n",
        "nohup tensorflow_model_server \\\n",
        "  --rest_api_port=8501 \\\n",
        "  --model_name=sm_model \\\n",
        "  --model_base_path=\"${MODEL_DIR}\" >server.log 2>&1"
      ],
      "execution_count": 0,
      "outputs": []
    },
    {
      "cell_type": "code",
      "metadata": {
        "id": "IkANV3BIGr6T",
        "colab_type": "code",
        "colab": {}
      },
      "source": [
        "!tail server.log"
      ],
      "execution_count": 0,
      "outputs": []
    },
    {
      "cell_type": "code",
      "metadata": {
        "id": "RAgvYiw5Gwms",
        "colab_type": "code",
        "colab": {}
      },
      "source": [
        "import json\n",
        "data = json.dumps({\"signature_name\": \"serving_default\", \"instances\": [10.0]})\n",
        "data"
      ],
      "execution_count": 0,
      "outputs": []
    },
    {
      "cell_type": "code",
      "metadata": {
        "id": "Y9CRc2L3IlEh",
        "colab_type": "code",
        "colab": {}
      },
      "source": [
        "!pip install -q requests\n",
        "\n",
        "import requests\n",
        "headers = {\"content-type\": \"application/json\"}\n",
        "json_response = requests.post('http://localhost:8501/v1/models/sm_model:predict', data=data, headers=headers)\n",
        "json_response\n",
        "#predictions = json.loads(json_response.text)['predictions']\n",
        "#predictions"
      ],
      "execution_count": 0,
      "outputs": []
    },
    {
      "cell_type": "code",
      "metadata": {
        "id": "txVvBnbXLVaR",
        "colab_type": "code",
        "colab": {}
      },
      "source": [
        "#https://stackoverflow.com/questions/52671138/tensorflow-serving-rest-api-returns-malformed-request-error\n",
        "!curl http://localhost:8501/v1/models/sm_model"
      ],
      "execution_count": 0,
      "outputs": []
    },
    {
      "cell_type": "code",
      "metadata": {
        "id": "DWpQt3kgOQGX",
        "colab_type": "code",
        "colab": {}
      },
      "source": [
        "!tensorflow_model_server --version"
      ],
      "execution_count": 0,
      "outputs": []
    },
    {
      "cell_type": "code",
      "metadata": {
        "id": "s9t7A6QjIped",
        "colab_type": "code",
        "colab": {}
      },
      "source": [
        "!tail server.log"
      ],
      "execution_count": 0,
      "outputs": []
    },
    {
      "cell_type": "code",
      "metadata": {
        "id": "I-QzYOY6OiB1",
        "colab_type": "code",
        "colab": {}
      },
      "source": [
        "!curl -X POST http://localhost:8501/v1/models/sm_model/versions/1:predict -d '{\"instances\": [[10.0]]}'"
      ],
      "execution_count": 0,
      "outputs": []
    },
    {
      "cell_type": "code",
      "metadata": {
        "id": "-VCfPPQEVOkb",
        "colab_type": "code",
        "colab": {}
      },
      "source": [
        "#https://www.tensorflow.org/tfx/tutorials/serving/rest_simple\n",
        "#https://www.tensorflow.org/tfx/serving/api_rest\n",
        "!curl -d '\"instances\": [10.0]' -X POST http://localhost:8501/v1/models/sm_model:predict"
      ],
      "execution_count": 0,
      "outputs": []
    },
    {
      "cell_type": "code",
      "metadata": {
        "id": "5PIRQyZwOlcB",
        "colab_type": "code",
        "colab": {}
      },
      "source": [
        " #https://www.tensorflow.org/tfx/serving/setup\n",
        " #https://www.tensorflow.org/tfx/serving/docker\n",
        "#https://github.com/tensorflow/serving/blob/master/tensorflow_serving/g3doc/docker.md \n",
        "#https://github.com/CiscoAI/KFLab/tree/master/pipelines/tf-mnist\n",
        "#http://blog.oddbit.com/post/2014-08-11-four-ways-to-connect-a-docker/"
      ],
      "execution_count": 0,
      "outputs": []
    },
    {
      "cell_type": "code",
      "metadata": {
        "id": "dKnv126d29BK",
        "colab_type": "code",
        "colab": {}
      },
      "source": [
        ""
      ],
      "execution_count": 0,
      "outputs": []
    },
    {
      "cell_type": "code",
      "metadata": {
        "id": "pZjUiUTT3kHK",
        "colab_type": "code",
        "outputId": "be4dd2cd-e210-4f5c-f33d-5dcc952f381e",
        "colab": {
          "base_uri": "https://localhost:8080/",
          "height": 939
        }
      },
      "source": [
        "!sudo apt-get install -y apt-transport-https ca-certificates unzip\n",
        "!curl -fsSL https://download.docker.com/linux/ubuntu/gpg | sudo apt-key add -\n",
        "\n",
        "!sudo add-apt-repository \\\n",
        "   \"deb [arch=amd64] https://download.docker.com/linux/ubuntu \\\n",
        "   $(lsb_release -cs) \\\n",
        "   stable\"\n",
        "!sudo apt-get update\n"
      ],
      "execution_count": 0,
      "outputs": [
        {
          "output_type": "stream",
          "text": [
            "Reading package lists... Done\n",
            "Building dependency tree       \n",
            "Reading state information... Done\n",
            "ca-certificates is already the newest version (20180409).\n",
            "unzip is already the newest version (6.0-21ubuntu1).\n",
            "apt-transport-https is already the newest version (1.6.10).\n",
            "The following package was automatically installed and is no longer required:\n",
            "  libnvidia-common-410\n",
            "Use 'sudo apt autoremove' to remove it.\n",
            "0 upgraded, 0 newly installed, 0 to remove and 16 not upgraded.\n",
            "OK\n",
            "Hit:1 http://storage.googleapis.com/tensorflow-serving-apt stable InRelease\n",
            "Ign:2 https://developer.download.nvidia.com/compute/cuda/repos/ubuntu1804/x86_64  InRelease\n",
            "Hit:3 https://cloud.r-project.org/bin/linux/ubuntu bionic-cran35/ InRelease\n",
            "Ign:4 https://developer.download.nvidia.com/compute/machine-learning/repos/ubuntu1804/x86_64  InRelease\n",
            "Hit:5 https://developer.download.nvidia.com/compute/cuda/repos/ubuntu1804/x86_64  Release\n",
            "Hit:6 https://developer.download.nvidia.com/compute/machine-learning/repos/ubuntu1804/x86_64  Release\n",
            "Hit:7 http://security.ubuntu.com/ubuntu bionic-security InRelease\n",
            "Ign:8 https://download.docker.com/linux/debian bionic InRelease\n",
            "Get:9 https://download.docker.com/linux/ubuntu bionic InRelease [64.4 kB]\n",
            "Hit:10 http://ppa.launchpad.net/graphics-drivers/ppa/ubuntu bionic InRelease\n",
            "Hit:11 http://archive.ubuntu.com/ubuntu bionic InRelease\n",
            "Hit:14 http://archive.ubuntu.com/ubuntu bionic-updates InRelease\n",
            "Err:15 https://download.docker.com/linux/debian bionic Release\n",
            "  404  Not Found [IP: 54.239.132.10 443]\n",
            "Hit:16 http://ppa.launchpad.net/marutter/c2d4u3.5/ubuntu bionic InRelease\n",
            "Hit:17 http://archive.ubuntu.com/ubuntu bionic-backports InRelease\n",
            "Get:18 https://download.docker.com/linux/ubuntu bionic/stable amd64 Packages [6,361 B]\n",
            "Reading package lists... Done\n",
            "E: The repository 'https://download.docker.com/linux/debian bionic Release' does not have a Release file.\n",
            "N: Updating from such a repository can't be done securely, and is therefore disabled by default.\n",
            "N: See apt-secure(8) manpage for repository creation and user configuration details.\n",
            "Hit:1 http://storage.googleapis.com/tensorflow-serving-apt stable InRelease\n",
            "Ign:2 https://developer.download.nvidia.com/compute/cuda/repos/ubuntu1804/x86_64  InRelease\n",
            "Hit:3 https://cloud.r-project.org/bin/linux/ubuntu bionic-cran35/ InRelease\n",
            "Ign:4 https://developer.download.nvidia.com/compute/machine-learning/repos/ubuntu1804/x86_64  InRelease\n",
            "Hit:5 https://developer.download.nvidia.com/compute/cuda/repos/ubuntu1804/x86_64  Release\n",
            "Hit:6 http://security.ubuntu.com/ubuntu bionic-security InRelease\n",
            "Hit:7 https://developer.download.nvidia.com/compute/machine-learning/repos/ubuntu1804/x86_64  Release\n",
            "Ign:8 https://download.docker.com/linux/debian bionic InRelease\n",
            "Hit:9 https://download.docker.com/linux/ubuntu bionic InRelease\n",
            "Hit:10 http://ppa.launchpad.net/graphics-drivers/ppa/ubuntu bionic InRelease\n",
            "Hit:11 http://archive.ubuntu.com/ubuntu bionic InRelease\n",
            "Hit:13 http://archive.ubuntu.com/ubuntu bionic-updates InRelease\n",
            "Err:14 https://download.docker.com/linux/debian bionic Release\n",
            "  404  Not Found [IP: 54.239.132.10 443]\n",
            "Hit:16 http://ppa.launchpad.net/marutter/c2d4u3.5/ubuntu bionic InRelease\n",
            "Hit:17 http://archive.ubuntu.com/ubuntu bionic-backports InRelease\n",
            "Reading package lists... Done\n",
            "E: The repository 'https://download.docker.com/linux/debian bionic Release' does not have a Release file.\n",
            "N: Updating from such a repository can't be done securely, and is therefore disabled by default.\n",
            "N: See apt-secure(8) manpage for repository creation and user configuration details.\n"
          ],
          "name": "stdout"
        }
      ]
    },
    {
      "cell_type": "code",
      "metadata": {
        "id": "EOyupvpx3n2r",
        "colab_type": "code",
        "outputId": "5d59816f-653f-4815-d443-f265bd4ca000",
        "colab": {
          "base_uri": "https://localhost:8080/",
          "height": 2065
        }
      },
      "source": [
        "!sudo apt-get -y install docker-ce\n",
        "\n",
        "!sudo service docker restart\n",
        "\n",
        "!sudo docker run hello-world"
      ],
      "execution_count": 0,
      "outputs": [
        {
          "output_type": "stream",
          "text": [
            "Reading package lists... Done\n",
            "Building dependency tree       \n",
            "Reading state information... Done\n",
            "The following package was automatically installed and is no longer required:\n",
            "  libnvidia-common-410\n",
            "Use 'sudo apt autoremove' to remove it.\n",
            "The following additional packages will be installed:\n",
            "  apparmor aufs-tools cgroupfs-mount containerd.io docker-ce-cli iptables\n",
            "  libip6tc0 libiptc0 libmnl0 libnetfilter-conntrack3 libnfnetlink0\n",
            "  libxtables12 pigz\n",
            "Suggested packages:\n",
            "  apparmor-profiles-extra apparmor-utils\n",
            "The following NEW packages will be installed:\n",
            "  apparmor aufs-tools cgroupfs-mount containerd.io docker-ce docker-ce-cli\n",
            "  iptables libip6tc0 libiptc0 libmnl0 libnetfilter-conntrack3 libnfnetlink0\n",
            "  libxtables12 pigz\n",
            "0 upgraded, 14 newly installed, 0 to remove and 16 not upgraded.\n",
            "Need to get 51.6 MB of archives.\n",
            "After this operation, 247 MB of additional disk space will be used.\n",
            "Get:1 https://download.docker.com/linux/ubuntu bionic/stable amd64 containerd.io amd64 1.2.5-1 [19.9 MB]\n",
            "Get:2 http://archive.ubuntu.com/ubuntu bionic/main amd64 libnfnetlink0 amd64 1.0.1-3 [13.3 kB]\n",
            "Get:3 http://archive.ubuntu.com/ubuntu bionic/universe amd64 pigz amd64 2.4-1 [57.4 kB]\n",
            "Get:4 https://download.docker.com/linux/ubuntu bionic/stable amd64 docker-ce-cli amd64 5:18.09.6~3-0~ubuntu-bionic [13.2 MB]\n",
            "Get:5 http://archive.ubuntu.com/ubuntu bionic/main amd64 libmnl0 amd64 1.0.4-2 [12.3 kB]\n",
            "Get:6 http://archive.ubuntu.com/ubuntu bionic/main amd64 libxtables12 amd64 1.6.1-2ubuntu2 [27.9 kB]\n",
            "Get:7 http://archive.ubuntu.com/ubuntu bionic-updates/main amd64 apparmor amd64 2.12-4ubuntu5.1 [487 kB]\n",
            "Get:8 https://download.docker.com/linux/ubuntu bionic/stable amd64 docker-ce amd64 5:18.09.6~3-0~ubuntu-bionic [17.4 MB]\n",
            "Get:9 http://archive.ubuntu.com/ubuntu bionic/main amd64 libip6tc0 amd64 1.6.1-2ubuntu2 [19.9 kB]\n",
            "Get:10 http://archive.ubuntu.com/ubuntu bionic/main amd64 libiptc0 amd64 1.6.1-2ubuntu2 [9,308 B]\n",
            "Get:11 http://archive.ubuntu.com/ubuntu bionic/main amd64 libnetfilter-conntrack3 amd64 1.0.6-2 [37.8 kB]\n",
            "Get:12 http://archive.ubuntu.com/ubuntu bionic/main amd64 iptables amd64 1.6.1-2ubuntu2 [269 kB]\n",
            "Get:13 http://archive.ubuntu.com/ubuntu bionic/universe amd64 aufs-tools amd64 1:4.9+20170918-1ubuntu1 [104 kB]\n",
            "Get:14 http://archive.ubuntu.com/ubuntu bionic/universe amd64 cgroupfs-mount all 1.4 [6,320 B]\n",
            "Fetched 51.6 MB in 1s (42.1 MB/s)\n",
            "debconf: unable to initialize frontend: Dialog\n",
            "debconf: (No usable dialog-like program is installed, so the dialog based frontend cannot be used. at /usr/share/perl5/Debconf/FrontEnd/Dialog.pm line 76, <> line 14.)\n",
            "debconf: falling back to frontend: Readline\n",
            "debconf: unable to initialize frontend: Readline\n",
            "debconf: (This frontend requires a controlling tty.)\n",
            "debconf: falling back to frontend: Teletype\n",
            "dpkg-preconfigure: unable to re-open stdin: \n",
            "Selecting previously unselected package libnfnetlink0:amd64.\n",
            "(Reading database ... 130816 files and directories currently installed.)\n",
            "Preparing to unpack .../00-libnfnetlink0_1.0.1-3_amd64.deb ...\n",
            "Unpacking libnfnetlink0:amd64 (1.0.1-3) ...\n",
            "Selecting previously unselected package pigz.\n",
            "Preparing to unpack .../01-pigz_2.4-1_amd64.deb ...\n",
            "Unpacking pigz (2.4-1) ...\n",
            "Selecting previously unselected package libmnl0:amd64.\n",
            "Preparing to unpack .../02-libmnl0_1.0.4-2_amd64.deb ...\n",
            "Unpacking libmnl0:amd64 (1.0.4-2) ...\n",
            "Selecting previously unselected package libxtables12:amd64.\n",
            "Preparing to unpack .../03-libxtables12_1.6.1-2ubuntu2_amd64.deb ...\n",
            "Unpacking libxtables12:amd64 (1.6.1-2ubuntu2) ...\n",
            "Selecting previously unselected package apparmor.\n",
            "Preparing to unpack .../04-apparmor_2.12-4ubuntu5.1_amd64.deb ...\n",
            "Unpacking apparmor (2.12-4ubuntu5.1) ...\n",
            "Selecting previously unselected package libip6tc0:amd64.\n",
            "Preparing to unpack .../05-libip6tc0_1.6.1-2ubuntu2_amd64.deb ...\n",
            "Unpacking libip6tc0:amd64 (1.6.1-2ubuntu2) ...\n",
            "Selecting previously unselected package libiptc0:amd64.\n",
            "Preparing to unpack .../06-libiptc0_1.6.1-2ubuntu2_amd64.deb ...\n",
            "Unpacking libiptc0:amd64 (1.6.1-2ubuntu2) ...\n",
            "Selecting previously unselected package libnetfilter-conntrack3:amd64.\n",
            "Preparing to unpack .../07-libnetfilter-conntrack3_1.0.6-2_amd64.deb ...\n",
            "Unpacking libnetfilter-conntrack3:amd64 (1.0.6-2) ...\n",
            "Selecting previously unselected package iptables.\n",
            "Preparing to unpack .../08-iptables_1.6.1-2ubuntu2_amd64.deb ...\n",
            "Unpacking iptables (1.6.1-2ubuntu2) ...\n",
            "Selecting previously unselected package aufs-tools.\n",
            "Preparing to unpack .../09-aufs-tools_1%3a4.9+20170918-1ubuntu1_amd64.deb ...\n",
            "Unpacking aufs-tools (1:4.9+20170918-1ubuntu1) ...\n",
            "Selecting previously unselected package cgroupfs-mount.\n",
            "Preparing to unpack .../10-cgroupfs-mount_1.4_all.deb ...\n",
            "Unpacking cgroupfs-mount (1.4) ...\n",
            "Selecting previously unselected package containerd.io.\n",
            "Preparing to unpack .../11-containerd.io_1.2.5-1_amd64.deb ...\n",
            "Unpacking containerd.io (1.2.5-1) ...\n",
            "Selecting previously unselected package docker-ce-cli.\n",
            "Preparing to unpack .../12-docker-ce-cli_5%3a18.09.6~3-0~ubuntu-bionic_amd64.deb ...\n",
            "Unpacking docker-ce-cli (5:18.09.6~3-0~ubuntu-bionic) ...\n",
            "Selecting previously unselected package docker-ce.\n",
            "Preparing to unpack .../13-docker-ce_5%3a18.09.6~3-0~ubuntu-bionic_amd64.deb ...\n",
            "Unpacking docker-ce (5:18.09.6~3-0~ubuntu-bionic) ...\n",
            "Setting up aufs-tools (1:4.9+20170918-1ubuntu1) ...\n",
            "Setting up containerd.io (1.2.5-1) ...\n",
            "Created symlink /etc/systemd/system/multi-user.target.wants/containerd.service → /lib/systemd/system/containerd.service.\n",
            "Setting up libiptc0:amd64 (1.6.1-2ubuntu2) ...\n",
            "Setting up apparmor (2.12-4ubuntu5.1) ...\n",
            "debconf: unable to initialize frontend: Dialog\n",
            "debconf: (No usable dialog-like program is installed, so the dialog based frontend cannot be used. at /usr/share/perl5/Debconf/FrontEnd/Dialog.pm line 76.)\n",
            "debconf: falling back to frontend: Readline\n",
            "Created symlink /etc/systemd/system/sysinit.target.wants/apparmor.service → /lib/systemd/system/apparmor.service.\n",
            "Setting up cgroupfs-mount (1.4) ...\n",
            "invoke-rc.d: could not determine current runlevel\n",
            "invoke-rc.d: policy-rc.d denied execution of start.\n",
            "Processing triggers for libc-bin (2.27-3ubuntu1) ...\n",
            "Setting up libxtables12:amd64 (1.6.1-2ubuntu2) ...\n",
            "Processing triggers for systemd (237-3ubuntu10.21) ...\n",
            "Processing triggers for man-db (2.8.3-2ubuntu0.1) ...\n",
            "Setting up libnfnetlink0:amd64 (1.0.1-3) ...\n",
            "Setting up docker-ce-cli (5:18.09.6~3-0~ubuntu-bionic) ...\n",
            "Setting up libmnl0:amd64 (1.0.4-2) ...\n",
            "Setting up pigz (2.4-1) ...\n",
            "Setting up libip6tc0:amd64 (1.6.1-2ubuntu2) ...\n",
            "Setting up libnetfilter-conntrack3:amd64 (1.0.6-2) ...\n",
            "Setting up iptables (1.6.1-2ubuntu2) ...\n",
            "Setting up docker-ce (5:18.09.6~3-0~ubuntu-bionic) ...\n",
            "update-alternatives: using /usr/bin/dockerd-ce to provide /usr/bin/dockerd (dockerd) in auto mode\n",
            "Created symlink /etc/systemd/system/multi-user.target.wants/docker.service → /lib/systemd/system/docker.service.\n",
            "Created symlink /etc/systemd/system/sockets.target.wants/docker.socket → /lib/systemd/system/docker.socket.\n",
            "invoke-rc.d: could not determine current runlevel\n",
            "invoke-rc.d: policy-rc.d denied execution of start.\n",
            "Processing triggers for libc-bin (2.27-3ubuntu1) ...\n",
            "Processing triggers for systemd (237-3ubuntu10.21) ...\n",
            "docker: Cannot connect to the Docker daemon at unix:///var/run/docker.sock. Is the docker daemon running?.\n",
            "See 'docker run --help'.\n"
          ],
          "name": "stdout"
        }
      ]
    },
    {
      "cell_type": "code",
      "metadata": {
        "id": "7_Rm7fi03xL0",
        "colab_type": "code",
        "outputId": "e8a00549-0eda-4a87-ac16-e918606a0c8d",
        "colab": {
          "base_uri": "https://localhost:8080/",
          "height": 35
        }
      },
      "source": [
        "!which docker\n"
      ],
      "execution_count": 0,
      "outputs": [
        {
          "output_type": "stream",
          "text": [
            "/usr/bin/docker\n"
          ],
          "name": "stdout"
        }
      ]
    },
    {
      "cell_type": "code",
      "metadata": {
        "id": "l4SjA0n944zH",
        "colab_type": "code",
        "colab": {}
      },
      "source": [
        "!sudo service docker restart"
      ],
      "execution_count": 0,
      "outputs": []
    },
    {
      "cell_type": "code",
      "metadata": {
        "id": "97Uhsojz5EvW",
        "colab_type": "code",
        "outputId": "51f2f05b-e095-4e85-e7fe-7233eaa19023",
        "colab": {
          "base_uri": "https://localhost:8080/",
          "height": 35
        }
      },
      "source": [
        "!docker --version\n"
      ],
      "execution_count": 0,
      "outputs": [
        {
          "output_type": "stream",
          "text": [
            "Docker version 18.09.6, build 481bc77\n"
          ],
          "name": "stdout"
        }
      ]
    },
    {
      "cell_type": "code",
      "metadata": {
        "id": "o_8T0A8o5KgO",
        "colab_type": "code",
        "outputId": "a0eb2e3b-98fe-45f5-ab29-2578fbb42552",
        "colab": {
          "base_uri": "https://localhost:8080/",
          "height": 52
        }
      },
      "source": [
        "!docker pull tensorflow/serving"
      ],
      "execution_count": 0,
      "outputs": [
        {
          "output_type": "stream",
          "text": [
            "Using default tag: latest\n",
            "Cannot connect to the Docker daemon at unix:///var/run/docker.sock. Is the docker daemon running?\n"
          ],
          "name": "stdout"
        }
      ]
    },
    {
      "cell_type": "code",
      "metadata": {
        "id": "CMrEwBHV5Pwt",
        "colab_type": "code",
        "outputId": "dd8e3383-f8ad-40cd-a820-a47be8854bf8",
        "colab": {
          "base_uri": "https://localhost:8080/",
          "height": 35
        }
      },
      "source": [
        "!service docker status"
      ],
      "execution_count": 0,
      "outputs": [
        {
          "output_type": "stream",
          "text": [
            " * Docker is not running\n"
          ],
          "name": "stdout"
        }
      ]
    },
    {
      "cell_type": "code",
      "metadata": {
        "id": "2M0qKJ6x5bpc",
        "colab_type": "code",
        "outputId": "33a9ca57-3d18-4b80-b86a-81152a211dfa",
        "colab": {
          "base_uri": "https://localhost:8080/",
          "height": 35
        }
      },
      "source": [
        "!service chkconfig --list"
      ],
      "execution_count": 0,
      "outputs": [
        {
          "output_type": "stream",
          "text": [
            "chkconfig: unrecognized service\n"
          ],
          "name": "stdout"
        }
      ]
    },
    {
      "cell_type": "code",
      "metadata": {
        "id": "1DsXU2UI5x-6",
        "colab_type": "code",
        "colab": {}
      },
      "source": [
        "#http://blog.oddbit.com/post/2014-08-11-four-ways-to-connect-a-docker/\n",
        "#https://www.kubeflow.org/docs/pipelines/sdk/component-development/\n",
        "#https://github.com/tensorflow/serving/blob/master/tensorflow_serving/g3doc/docker.md\n",
        "#https://github.com/StefanoFioravanzo/kale\n",
        "#https://github.com/CiscoAI/KFLab/tree/master/pipelines/tf-mnist\n",
        "#https://github.com/tensorflow/serving/blob/master/tensorflow_serving/example/mnist_saved_model.py\n",
        "#https://www.tensorflow.org/tfx/serving/serving_basic\n",
        "#https://www.tensorflow.org/tfx/serving/signature_defs\n",
        "#https://www.tensorflow.org/alpha/tutorials/keras/save_and_restore_models\n",
        "#https://www.tensorflow.org/tfx/serving/tutorials/Serving_REST_simple"
      ],
      "execution_count": 0,
      "outputs": []
    }
  ]
}